{
 "cells": [
  {
   "cell_type": "code",
   "execution_count": 1,
   "metadata": {},
   "outputs": [],
   "source": [
    "from selenium import webdriver\n",
    "\n",
    "#selenium의 webdriver로 크롬 브라우저를 실행한다\n",
    "path = \"C:/anaconda/chromedriver.exe\"             #/드라이버 파일 위치\"\n",
    "\n",
    "driver=webdriver.Chrome(path)"
   ]
  },
  {
   "cell_type": "code",
   "execution_count": 15,
   "metadata": {},
   "outputs": [],
   "source": [
    "driver.get(\"https://www.instagram.com/accounts/login/?source=auth_switcher\")"
   ]
  },
  {
   "cell_type": "markdown",
   "metadata": {},
   "source": [
    "    F12 버튼 누르고 윗줄왼쪽버튼 누르면 태그 정보 나타남!\n",
    "일반적으로 가입하기는 < form > 이라는 태그를 통해서 할 수 있다. 그리고 아이디나 패스워드 등은 아래와 같은 방식으로 < input > 이라는 태그 안에 정보를 담을 수 있도록 했다. 일종의 약속이다. HTML 태그 관련해서 w3school에 초보자들도 쉽게 이해할 수 있도록 정리되어 있다."
   ]
  },
  {
   "cell_type": "markdown",
   "metadata": {},
   "source": [
    "크롬의 개발자도구(F12)로 찾은 휴대폰 번호 또는 이메일 주소를 입력하는 input Element 정보를 찾았고 우리는 name이 \"emailOrPhone\" 이라는 것을 알아냈다.\n",
    "\n",
    "\n",
    "    name으로 해당 Element에 접근해보자"
   ]
  },
  {
   "cell_type": "code",
   "execution_count": 32,
   "metadata": {},
   "outputs": [],
   "source": [
    "element=driver.find_element_by_name(\"username\")"
   ]
  },
  {
   "cell_type": "code",
   "execution_count": 33,
   "metadata": {},
   "outputs": [],
   "source": [
    "element.send_keys(\"m1n_1n\")"
   ]
  },
  {
   "cell_type": "code",
   "execution_count": 34,
   "metadata": {},
   "outputs": [],
   "source": [
    "element=driver.find_element_by_name(\"password\")"
   ]
  },
  {
   "cell_type": "code",
   "execution_count": 36,
   "metadata": {},
   "outputs": [],
   "source": [
    "element.send_keys(\"~~~~\")"
   ]
  },
  {
   "cell_type": "code",
   "execution_count": 37,
   "metadata": {},
   "outputs": [],
   "source": [
    "element.submit()"
   ]
  },
  {
   "cell_type": "markdown",
   "metadata": {},
   "source": [
    "## 앞으로가기 뒤로가기\n",
    "driver.forward()\n",
    "driver.back()"
   ]
  },
  {
   "cell_type": "markdown",
   "metadata": {},
   "source": [
    "## Cookie로 해보기\n",
    "cookie = {'name' : 'sacko', 'value' : 'blogger' }\n",
    "driver.add_cookie(cookie)\n",
    "driver.get_cookies()\n"
   ]
  },
  {
   "cell_type": "code",
   "execution_count": null,
   "metadata": {},
   "outputs": [],
   "source": []
  }
 ],
 "metadata": {
  "kernelspec": {
   "display_name": "Python 3",
   "language": "python",
   "name": "python3"
  },
  "language_info": {
   "codemirror_mode": {
    "name": "ipython",
    "version": 3
   },
   "file_extension": ".py",
   "mimetype": "text/x-python",
   "name": "python",
   "nbconvert_exporter": "python",
   "pygments_lexer": "ipython3",
   "version": "3.7.1"
  }
 },
 "nbformat": 4,
 "nbformat_minor": 2
}
