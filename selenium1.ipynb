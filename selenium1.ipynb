{
 "cells": [
  {
   "cell_type": "markdown",
   "metadata": {},
   "source": [
    "# Selenium 다루기\n",
    "1. anaconda를 통해 \n",
    ">> conda install -c conda-forge selenium\n",
    "\n",
    "2. 브라우저 driver 설치\n",
    "Chrome: https://sites.google.com/a/chromium.org/chromedriver/downloads\n",
    "\n",
    "3. 작동시키기\n",
    "1) selenium 모듈에서 webdriver를 불러온다\n",
    "\n",
    "2) 다운로드 받아 압축을 해제한 drive 파일 경로를 path 변수에 할당한다\n",
    "\n",
    "3) webdriver.Chrome(path)로 chromedriver로 크롬 브라우저를 제어할 수 있는 창을 띄운다. 이름은 driver로 했다. 변수명은 원하는 걸로 사용하면 된다."
   ]
  },
  {
   "cell_type": "code",
   "execution_count": 14,
   "metadata": {},
   "outputs": [],
   "source": [
    "from selenium import webdriver\n",
    "\n",
    "path = \"C:/anaconda/chromedriver.exe\"             #/드라이버 파일 위치\"\n",
    "\n",
    "driver=webdriver.Chrome(path)"
   ]
  },
  {
   "cell_type": "markdown",
   "metadata": {},
   "source": [
    "### Selenium으로 해당 브라우저 제어 가능\n",
    "이제부터 코드로 브라우저 제어. 구글 접속해보자"
   ]
  },
  {
   "cell_type": "code",
   "execution_count": 15,
   "metadata": {},
   "outputs": [],
   "source": [
    "driver.get('https://www.google.com')"
   ]
  },
  {
   "cell_type": "markdown",
   "metadata": {},
   "source": [
    "브라우저 종료"
   ]
  },
  {
   "cell_type": "code",
   "execution_count": 16,
   "metadata": {},
   "outputs": [],
   "source": [
    "driver.close()"
   ]
  },
  {
   "cell_type": "code",
   "execution_count": null,
   "metadata": {},
   "outputs": [],
   "source": []
  }
 ],
 "metadata": {
  "kernelspec": {
   "display_name": "Python 3",
   "language": "python",
   "name": "python3"
  },
  "language_info": {
   "codemirror_mode": {
    "name": "ipython",
    "version": 3
   },
   "file_extension": ".py",
   "mimetype": "text/x-python",
   "name": "python",
   "nbconvert_exporter": "python",
   "pygments_lexer": "ipython3",
   "version": "3.7.1"
  }
 },
 "nbformat": 4,
 "nbformat_minor": 2
}
