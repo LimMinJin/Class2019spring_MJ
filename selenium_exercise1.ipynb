{
 "cells": [
  {
   "cell_type": "markdown",
   "metadata": {},
   "source": [
    "# 간단한 실습예제 - 구글 검색"
   ]
  },
  {
   "cell_type": "code",
   "execution_count": 15,
   "metadata": {},
   "outputs": [],
   "source": [
    "from selenium import webdriver\n",
    "\n",
    "#selenium의 webdriver로 크롬 브라우저를 실행한다\n",
    "path = \"C:/anaconda/chromedriver.exe\"             #/드라이버 파일 위치\"\n",
    "\n",
    "driver=webdriver.Chrome(path)"
   ]
  },
  {
   "cell_type": "code",
   "execution_count": 16,
   "metadata": {},
   "outputs": [],
   "source": [
    "#\"Google\"에 접속한다\n",
    "driver.get(\"http://www.google.co.kr\")\n"
   ]
  },
  {
   "cell_type": "code",
   "execution_count": 18,
   "metadata": {},
   "outputs": [],
   "source": [
    "#페이지의 제목을 체크하여 'Google'에 제대로 접속했는지 확인한다\n",
    "\n",
    "assert \"Google\" in driver.title"
   ]
  },
  {
   "cell_type": "code",
   "execution_count": 19,
   "metadata": {},
   "outputs": [
    {
     "ename": "AssertionError",
     "evalue": "",
     "output_type": "error",
     "traceback": [
      "\u001b[1;31m---------------------------------------------------------------------------\u001b[0m",
      "\u001b[1;31mAssertionError\u001b[0m                            Traceback (most recent call last)",
      "\u001b[1;32m<ipython-input-19-8d2dea964ea2>\u001b[0m in \u001b[0;36m<module>\u001b[1;34m\u001b[0m\n\u001b[1;32m----> 1\u001b[1;33m \u001b[1;32massert\u001b[0m \u001b[1;34m\"Naver\"\u001b[0m \u001b[1;32min\u001b[0m \u001b[0mdriver\u001b[0m\u001b[1;33m.\u001b[0m\u001b[0mtitle\u001b[0m\u001b[1;33m\u001b[0m\u001b[1;33m\u001b[0m\u001b[0m\n\u001b[0m",
      "\u001b[1;31mAssertionError\u001b[0m: "
     ]
    }
   ],
   "source": [
    "assert \"Naver\" in driver.title"
   ]
  },
  {
   "cell_type": "code",
   "execution_count": 20,
   "metadata": {},
   "outputs": [],
   "source": [
    "#검색 입력 부분에 커서를 올리고\n",
    "#검색 입력 부분에 다양한 명령을 내리기 위해 elem 변수에 할당한다\n",
    "elem = driver.find_element_by_name(\"q\")"
   ]
  },
  {
   "cell_type": "markdown",
   "metadata": {},
   "source": [
    "현재 열려 있는 창의 element의 name이 \"q\"인 것을 찾아서 elem 변수에 할당하라는 코드이다. 쉽게 말해서 우리가 구글에서 검색할 때 검색어를 입력하기 위해 검색창에 마우스를 클릭하는 것과 같은 행위를 코드로 하는 것이다. elem을 통해서 우리는 검색창을 마음대로 쓸 수 있다."
   ]
  },
  {
   "cell_type": "code",
   "execution_count": 21,
   "metadata": {},
   "outputs": [],
   "source": [
    "#입력 부분에 default로 값이 있을 수 있어 비운다\n",
    "elem.clear()"
   ]
  },
  {
   "cell_type": "code",
   "execution_count": 22,
   "metadata": {},
   "outputs": [],
   "source": [
    "#검색어를 입력한다\n",
    "elem.send_keys(\"Selenium\")"
   ]
  },
  {
   "cell_type": "markdown",
   "metadata": {},
   "source": [
    "검색창에 \"Selenium\"을 입력하도록 명령한 결과, 검색어가 잘 입력됐다. send_keys()에서 keys()는 Keyboard를 가리키는 말로 보통 webdriver 안에 있는 키보드를 가리키는 Keys라는 객체를 활용해서 브라우저에서 키보드를 사용할 수 있도록 한다. 이 부분은 다음에 다뤄보도록 하겠다."
   ]
  },
  {
   "cell_type": "code",
   "execution_count": 23,
   "metadata": {},
   "outputs": [],
   "source": [
    "#검색을 실행한다\n",
    "elem.submit()"
   ]
  },
  {
   "cell_type": "code",
   "execution_count": 24,
   "metadata": {},
   "outputs": [],
   "source": [
    "#검색이 제대로 됐는지 확인한다\n",
    "assert \"No results found.\" not in driver.page_source"
   ]
  },
  {
   "cell_type": "code",
   "execution_count": 25,
   "metadata": {},
   "outputs": [],
   "source": [
    "#브라우저를 종료한다\n",
    "driver.close()"
   ]
  },
  {
   "cell_type": "code",
   "execution_count": null,
   "metadata": {},
   "outputs": [],
   "source": []
  }
 ],
 "metadata": {
  "kernelspec": {
   "display_name": "Python 3",
   "language": "python",
   "name": "python3"
  },
  "language_info": {
   "codemirror_mode": {
    "name": "ipython",
    "version": 3
   },
   "file_extension": ".py",
   "mimetype": "text/x-python",
   "name": "python",
   "nbconvert_exporter": "python",
   "pygments_lexer": "ipython3",
   "version": "3.7.1"
  }
 },
 "nbformat": 4,
 "nbformat_minor": 2
}
